{
 "cells": [
  {
   "cell_type": "markdown",
   "id": "b58018ad",
   "metadata": {},
   "source": [
    "# What is Machine Learning (ML) :\n",
    "\n",
    "## Machine learning is a powerful approach that enables computers to learn from data and make predictions or decisions without being explicitly programmed."
   ]
  },
  {
   "cell_type": "code",
   "execution_count": null,
   "id": "032c2964",
   "metadata": {},
   "outputs": [],
   "source": []
  },
  {
   "cell_type": "markdown",
   "id": "c18711b2",
   "metadata": {},
   "source": [
    "# Types of Machine Learning"
   ]
  },
  {
   "cell_type": "markdown",
   "id": "0eeb1267",
   "metadata": {},
   "source": [
    "![ml_types](ml_types.jpeg)"
   ]
  },
  {
   "cell_type": "markdown",
   "id": "20edf8dc",
   "metadata": {},
   "source": [
    "### In classification, one major algorithm is missing, can you find it?"
   ]
  },
  {
   "cell_type": "code",
   "execution_count": null,
   "id": "25c34524",
   "metadata": {},
   "outputs": [],
   "source": []
  },
  {
   "cell_type": "markdown",
   "id": "791a5c9c",
   "metadata": {},
   "source": [
    "# What is Classification?\n",
    "\n",
    "## Classification is the process of categorizing or grouping data into distinct classes or categories based on certain features or attributes.\n",
    "## Think of it as teaching a computer to recognize patterns, and then the computer learns to assign new or unseen data points to predefined categories."
   ]
  },
  {
   "cell_type": "code",
   "execution_count": null,
   "id": "80c2f44b",
   "metadata": {},
   "outputs": [],
   "source": []
  },
  {
   "cell_type": "markdown",
   "id": "0da24678",
   "metadata": {},
   "source": [
    "# Applications of Classification, why its important? : \n",
    "\n",
    "## Spam Detection: Automatically classifying emails as spam or not spam based on their content.\n",
    "\n",
    "## Image Recognition: Classifying images of objects, animals, or people in applications like self-driving cars or security systems.\n",
    "\n",
    "## Medical Diagnoses: Identifying whether a patient has a certain medical condition based on symptoms and test results."
   ]
  },
  {
   "cell_type": "code",
   "execution_count": null,
   "id": "a3590534",
   "metadata": {},
   "outputs": [],
   "source": []
  },
  {
   "cell_type": "markdown",
   "id": "b953b534",
   "metadata": {},
   "source": [
    "# Basic steps in Machine Learning coding:  \n",
    "\n",
    "[Loading Dataset](#Loading-Dataset)\n",
    "\n",
    "[Data Splitting](#Data-Splitting)\n",
    "\n",
    "[Vizualizing Dataset](#Vizualizing-Dataset)\n",
    "\n",
    "[Model Selection & Training](#Model-Training)\n",
    "\n",
    "[Model Evaluation](#Model-Evaluation)\n",
    "\n",
    "[Prediction / Classification](#Classification)"
   ]
  },
  {
   "cell_type": "code",
   "execution_count": 1,
   "id": "10fc727c",
   "metadata": {},
   "outputs": [],
   "source": [
    "import matplotlib.pyplot as plt # for visualization"
   ]
  },
  {
   "cell_type": "code",
   "execution_count": 2,
   "id": "c3f08a60",
   "metadata": {},
   "outputs": [],
   "source": [
    "def plot_img(img, label): # to plot an image with its ground truth as title\n",
    "    plt.matshow(img.reshape(8, 8), cmap='gray')\n",
    "    plt.title(label)\n",
    "    plt.axis('off')\n",
    "    plt.show()"
   ]
  },
  {
   "cell_type": "markdown",
   "id": "50e61fd9",
   "metadata": {},
   "source": [
    "### See description of other sklearn toy datasets [here](https://scikit-learn.org/stable/datasets/toy_dataset.html)"
   ]
  },
  {
   "cell_type": "code",
   "execution_count": 3,
   "id": "11148cde",
   "metadata": {},
   "outputs": [],
   "source": [
    "# There are many built-in datasets in sklearn, eg - Iris, digits, breast_cancer etc...\n",
    "# Importing 'load_digits' function from 'datasets' module of 'sklearn'.\n",
    "\n",
    "# Each datapoint is a 8x8 image of a digit.\n",
    "# Classes: 10\n",
    "# Samples per class : 180\n",
    "# Samples total : 1797\n",
    "# Dimensionality : 64\n",
    "\n",
    "from sklearn.datasets import load_digits"
   ]
  },
  {
   "cell_type": "code",
   "execution_count": 4,
   "id": "2c9c3159",
   "metadata": {},
   "outputs": [],
   "source": [
    "# For training and testing a ML model we need to split the whole dataset into training and testing set\n",
    "# It is done using 'train_test_split' function from 'model_selection' module of 'sklearn'.\n",
    "\n",
    "from sklearn.model_selection import train_test_split"
   ]
  },
  {
   "cell_type": "code",
   "execution_count": 5,
   "id": "da2f7265",
   "metadata": {},
   "outputs": [],
   "source": [
    "# Sklearn has different types of ML models in different modules, one such module is 'neighbours'\n",
    "# Importing 'KNeighborsClassifier' for K-Nearest Neighbours\n",
    "\n",
    "from sklearn.neighbors import KNeighborsClassifier"
   ]
  },
  {
   "cell_type": "markdown",
   "id": "48f2969f",
   "metadata": {},
   "source": [
    "# Loading Dataset"
   ]
  },
  {
   "cell_type": "code",
   "execution_count": 6,
   "id": "b4efdca7",
   "metadata": {},
   "outputs": [],
   "source": [
    "digits = load_digits()\n",
    "features = digits.data # Different pixel values\n",
    "targets = digits.target # Target values from 0 to 9"
   ]
  },
  {
   "cell_type": "markdown",
   "id": "539ffa1f",
   "metadata": {},
   "source": [
    "# Data Splitting"
   ]
  },
  {
   "cell_type": "code",
   "execution_count": 7,
   "id": "9223af3d",
   "metadata": {},
   "outputs": [],
   "source": [
    "# Splitting the data into train and test sets\n",
    "# test_size is the amount of dataset that is allocated as testing set from the whole dataset\n",
    "# 0.25 means 25% of the dataset is stored as testing set in X_test and their ground truth (label) in y_test\n",
    "# random_state is a seed value for reproducibility (for giving consistent result everytime you run the code)\n",
    "# if there's no random_state given, you will get different dataset partiton, hence different accuracy and other metrics\n",
    "X_train, X_test, y_train, y_test = train_test_split(features, targets, test_size=0.25, random_state=123)"
   ]
  },
  {
   "cell_type": "markdown",
   "id": "fc07ef91",
   "metadata": {},
   "source": [
    "# Vizualizing Dataset"
   ]
  },
  {
   "cell_type": "code",
   "execution_count": 8,
   "id": "d94e2987",
   "metadata": {},
   "outputs": [
    {
     "data": {
      "image/png": "[encoded data removed]",
      "text/plain": [
       "<Figure size 480x480 with 1 Axes>"
      ]
     },
     "metadata": {},
     "output_type": "display_data"
    }
   ],
   "source": [
    "# Visualizing training set\n",
    "i = 17\n",
    "plot_img(X_train[i], y_train[i])"
   ]
  },
  {
   "cell_type": "code",
   "execution_count": 9,
   "id": "5c726655",
   "metadata": {},
   "outputs": [
    {
     "data": {
      "image/png": "[encoded data removed]",
      "text/plain": [
       "<Figure size 480x480 with 1 Axes>"
      ]
     },
     "metadata": {},
     "output_type": "display_data"
    }
   ],
   "source": [
    "# Visualizing testing set\n",
    "i = 24\n",
    "plot_img(X_test[i], y_test[i])"
   ]
  },
  {
   "cell_type": "markdown",
   "id": "ecd403a3",
   "metadata": {},
   "source": [
    "# Model Training"
   ]
  },
  {
   "cell_type": "code",
   "execution_count": 10,
   "id": "3aef8b43",
   "metadata": {},
   "outputs": [
    {
     "data": {
      "text/html": [
       "<style>#sk-container-id-1 {color: black;background-color: white;}#sk-container-id-1 pre{padding: 0;}#sk-container-id-1 div.sk-toggleable {background-color: white;}#sk-container-id-1 label.sk-toggleable__label {cursor: pointer;display: block;width: 100%;margin-bottom: 0;padding: 0.3em;box-sizing: border-box;text-align: center;}#sk-container-id-1 label.sk-toggleable__label-arrow:before {content: \"▸\";float: left;margin-right: 0.25em;color: #696969;}#sk-container-id-1 label.sk-toggleable__label-arrow:hover:before {color: black;}#sk-container-id-1 div.sk-estimator:hover label.sk-toggleable__label-arrow:before {color: black;}#sk-container-id-1 div.sk-toggleable__content {max-height: 0;max-width: 0;overflow: hidden;text-align: left;background-color: #f0f8ff;}#sk-container-id-1 div.sk-toggleable__content pre {margin: 0.2em;color: black;border-radius: 0.25em;background-color: #f0f8ff;}#sk-container-id-1 input.sk-toggleable__control:checked~div.sk-toggleable__content {max-height: 200px;max-width: 100%;overflow: auto;}#sk-container-id-1 input.sk-toggleable__control:checked~label.sk-toggleable__label-arrow:before {content: \"▾\";}#sk-container-id-1 div.sk-estimator input.sk-toggleable__control:checked~label.sk-toggleable__label {background-color: #d4ebff;}#sk-container-id-1 div.sk-label input.sk-toggleable__control:checked~label.sk-toggleable__label {background-color: #d4ebff;}#sk-container-id-1 input.sk-hidden--visually {border: 0;clip: rect(1px 1px 1px 1px);clip: rect(1px, 1px, 1px, 1px);height: 1px;margin: -1px;overflow: hidden;padding: 0;position: absolute;width: 1px;}#sk-container-id-1 div.sk-estimator {font-family: monospace;background-color: #f0f8ff;border: 1px dotted black;border-radius: 0.25em;box-sizing: border-box;margin-bottom: 0.5em;}#sk-container-id-1 div.sk-estimator:hover {background-color: #d4ebff;}#sk-container-id-1 div.sk-parallel-item::after {content: \"\";width: 100%;border-bottom: 1px solid gray;flex-grow: 1;}#sk-container-id-1 div.sk-label:hover label.sk-toggleable__label {background-color: #d4ebff;}#sk-container-id-1 div.sk-serial::before {content: \"\";position: absolute;border-left: 1px solid gray;box-sizing: border-box;top: 0;bottom: 0;left: 50%;z-index: 0;}#sk-container-id-1 div.sk-serial {display: flex;flex-direction: column;align-items: center;background-color: white;padding-right: 0.2em;padding-left: 0.2em;position: relative;}#sk-container-id-1 div.sk-item {position: relative;z-index: 1;}#sk-container-id-1 div.sk-parallel {display: flex;align-items: stretch;justify-content: center;background-color: white;position: relative;}#sk-container-id-1 div.sk-item::before, #sk-container-id-1 div.sk-parallel-item::before {content: \"\";position: absolute;border-left: 1px solid gray;box-sizing: border-box;top: 0;bottom: 0;left: 50%;z-index: -1;}#sk-container-id-1 div.sk-parallel-item {display: flex;flex-direction: column;z-index: 1;position: relative;background-color: white;}#sk-container-id-1 div.sk-parallel-item:first-child::after {align-self: flex-end;width: 50%;}#sk-container-id-1 div.sk-parallel-item:last-child::after {align-self: flex-start;width: 50%;}#sk-container-id-1 div.sk-parallel-item:only-child::after {width: 0;}#sk-container-id-1 div.sk-dashed-wrapped {border: 1px dashed gray;margin: 0 0.4em 0.5em 0.4em;box-sizing: border-box;padding-bottom: 0.4em;background-color: white;}#sk-container-id-1 div.sk-label label {font-family: monospace;font-weight: bold;display: inline-block;line-height: 1.2em;}#sk-container-id-1 div.sk-label-container {text-align: center;}#sk-container-id-1 div.sk-container {/* jupyter's `normalize.less` sets `[hidden] { display: none; }` but bootstrap.min.css set `[hidden] { display: none !important; }` so we also need the `!important` here to be able to override the default hidden behavior on the sphinx rendered scikit-learn.org. See: https://github.com/scikit-learn/scikit-learn/issues/21755 */display: inline-block !important;position: relative;}#sk-container-id-1 div.sk-text-repr-fallback {display: none;}</style><div id=\"sk-container-id-1\" class=\"sk-top-container\"><div class=\"sk-text-repr-fallback\"><pre>KNeighborsClassifier(n_neighbors=3)</pre><b>In a Jupyter environment, please rerun this cell to show the HTML representation or trust the notebook. <br />On GitHub, the HTML representation is unable to render, please try loading this page with nbviewer.org.</b></div><div class=\"sk-container\" hidden><div class=\"sk-item\"><div class=\"sk-estimator sk-toggleable\"><input class=\"sk-toggleable__control sk-hidden--visually\" id=\"sk-estimator-id-1\" type=\"checkbox\" checked><label for=\"sk-estimator-id-1\" class=\"sk-toggleable__label sk-toggleable__label-arrow\">KNeighborsClassifier</label><div class=\"sk-toggleable__content\"><pre>KNeighborsClassifier(n_neighbors=3)</pre></div></div></div></div></div>"
      ],
      "text/plain": [
       "KNeighborsClassifier(n_neighbors=3)"
      ]
     },
     "execution_count": 10,
     "metadata": {},
     "output_type": "execute_result"
    }
   ],
   "source": [
    "# Train the classifier, use 'n_neighbors' argument to give the number of nearest neighbours \n",
    "knn = KNeighborsClassifier(n_neighbors=3)\n",
    "knn.fit(X_train, y_train) # fitting knn ml model to our training set"
   ]
  },
  {
   "cell_type": "markdown",
   "id": "d4cd5e42",
   "metadata": {},
   "source": [
    "# Model Evaluation"
   ]
  },
  {
   "cell_type": "code",
   "execution_count": 11,
   "id": "6cfe0adf",
   "metadata": {},
   "outputs": [
    {
     "name": "stdout",
     "output_type": "stream",
     "text": [
      "Accuracy: 97.78%\n"
     ]
    }
   ],
   "source": [
    "acc = knn.score(X_test, y_test) # checking the accuracy of knn model on test set using 'score' method of 'knn' object\n",
    "print(f\"Accuracy: {round(acc * 100, 2)}%\")"
   ]
  },
  {
   "cell_type": "markdown",
   "id": "c624a151",
   "metadata": {},
   "source": [
    "# Classification"
   ]
  },
  {
   "cell_type": "code",
   "execution_count": 12,
   "id": "4896d328",
   "metadata": {},
   "outputs": [
    {
     "name": "stdout",
     "output_type": "stream",
     "text": [
      "Classified as 5\n"
     ]
    },
    {
     "data": {
      "image/png": "[encoded data removed]",
      "text/plain": [
       "<Figure size 480x480 with 1 Axes>"
      ]
     },
     "metadata": {},
     "output_type": "display_data"
    }
   ],
   "source": [
    "j = 12\n",
    "test_img = X_test[j].reshape(1, -1)\n",
    "y_pred = knn.predict(test_img) # Making prediction using 'predict' function\n",
    "print(f\"Classified as {y_pred[0]}\")\n",
    "plot_img(X_test[j], y_test[j])"
   ]
  },
  {
   "cell_type": "code",
   "execution_count": null,
   "id": "91faceb3",
   "metadata": {},
   "outputs": [],
   "source": []
  }
 ],
 "metadata": {
  "kernelspec": {
   "display_name": "Python 3 (ipykernel)",
   "language": "python",
   "name": "python3"
  },
  "language_info": {
   "codemirror_mode": {
    "name": "ipython",
    "version": 3
   },
   "file_extension": ".py",
   "mimetype": "text/x-python",
   "name": "python",
   "nbconvert_exporter": "python",
   "pygments_lexer": "ipython3",
   "version": "3.10.11"
  }
 },
 "nbformat": 4,
 "nbformat_minor": 5
}
