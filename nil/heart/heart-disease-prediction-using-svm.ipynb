{
 "cells": [
  {
   "cell_type": "code",
   "execution_count": 1,
   "id": "69acb7e0",
   "metadata": {
    "execution": {
     "iopub.execute_input": "2022-07-04T11:29:42.758298Z",
     "iopub.status.busy": "2022-07-04T11:29:42.757822Z",
     "iopub.status.idle": "2022-07-04T11:29:42.854511Z",
     "shell.execute_reply": "2022-07-04T11:29:42.853372Z"
    },
    "papermill": {
     "duration": 0.107873,
     "end_time": "2022-07-04T11:29:42.857385",
     "exception": false,
     "start_time": "2022-07-04T11:29:42.749512",
     "status": "completed"
    },
    "tags": []
   },
   "outputs": [
    {
     "data": {
      "text/html": [
       "<div>\n",
       "<style scoped>\n",
       "    .dataframe tbody tr th:only-of-type {\n",
       "        vertical-align: middle;\n",
       "    }\n",
       "\n",
       "    .dataframe tbody tr th {\n",
       "        vertical-align: top;\n",
       "    }\n",
       "\n",
       "    .dataframe thead th {\n",
       "        text-align: right;\n",
       "    }\n",
       "</style>\n",
       "<table border=\"1\" class=\"dataframe\">\n",
       "  <thead>\n",
       "    <tr style=\"text-align: right;\">\n",
       "      <th></th>\n",
       "      <th>age</th>\n",
       "      <th>sex</th>\n",
       "      <th>cp</th>\n",
       "      <th>trestbps</th>\n",
       "      <th>chol</th>\n",
       "      <th>fbs</th>\n",
       "      <th>restecg</th>\n",
       "      <th>thalach</th>\n",
       "      <th>exang</th>\n",
       "      <th>oldpeak</th>\n",
       "      <th>slope</th>\n",
       "      <th>ca</th>\n",
       "      <th>thal</th>\n",
       "      <th>target</th>\n",
       "    </tr>\n",
       "  </thead>\n",
       "  <tbody>\n",
       "    <tr>\n",
       "      <th>count</th>\n",
       "      <td>1025.000000</td>\n",
       "      <td>1025.000000</td>\n",
       "      <td>1025.000000</td>\n",
       "      <td>1025.000000</td>\n",
       "      <td>1025.00000</td>\n",
       "      <td>1025.000000</td>\n",
       "      <td>1025.000000</td>\n",
       "      <td>1025.000000</td>\n",
       "      <td>1025.000000</td>\n",
       "      <td>1025.000000</td>\n",
       "      <td>1025.000000</td>\n",
       "      <td>1025.000000</td>\n",
       "      <td>1025.000000</td>\n",
       "      <td>1025.000000</td>\n",
       "    </tr>\n",
       "    <tr>\n",
       "      <th>mean</th>\n",
       "      <td>54.434146</td>\n",
       "      <td>0.695610</td>\n",
       "      <td>0.942439</td>\n",
       "      <td>131.611707</td>\n",
       "      <td>246.00000</td>\n",
       "      <td>0.149268</td>\n",
       "      <td>0.529756</td>\n",
       "      <td>149.114146</td>\n",
       "      <td>0.336585</td>\n",
       "      <td>1.071512</td>\n",
       "      <td>1.385366</td>\n",
       "      <td>0.754146</td>\n",
       "      <td>2.323902</td>\n",
       "      <td>0.513171</td>\n",
       "    </tr>\n",
       "    <tr>\n",
       "      <th>std</th>\n",
       "      <td>9.072290</td>\n",
       "      <td>0.460373</td>\n",
       "      <td>1.029641</td>\n",
       "      <td>17.516718</td>\n",
       "      <td>51.59251</td>\n",
       "      <td>0.356527</td>\n",
       "      <td>0.527878</td>\n",
       "      <td>23.005724</td>\n",
       "      <td>0.472772</td>\n",
       "      <td>1.175053</td>\n",
       "      <td>0.617755</td>\n",
       "      <td>1.030798</td>\n",
       "      <td>0.620660</td>\n",
       "      <td>0.500070</td>\n",
       "    </tr>\n",
       "    <tr>\n",
       "      <th>min</th>\n",
       "      <td>29.000000</td>\n",
       "      <td>0.000000</td>\n",
       "      <td>0.000000</td>\n",
       "      <td>94.000000</td>\n",
       "      <td>126.00000</td>\n",
       "      <td>0.000000</td>\n",
       "      <td>0.000000</td>\n",
       "      <td>71.000000</td>\n",
       "      <td>0.000000</td>\n",
       "      <td>0.000000</td>\n",
       "      <td>0.000000</td>\n",
       "      <td>0.000000</td>\n",
       "      <td>0.000000</td>\n",
       "      <td>0.000000</td>\n",
       "    </tr>\n",
       "    <tr>\n",
       "      <th>25%</th>\n",
       "      <td>48.000000</td>\n",
       "      <td>0.000000</td>\n",
       "      <td>0.000000</td>\n",
       "      <td>120.000000</td>\n",
       "      <td>211.00000</td>\n",
       "      <td>0.000000</td>\n",
       "      <td>0.000000</td>\n",
       "      <td>132.000000</td>\n",
       "      <td>0.000000</td>\n",
       "      <td>0.000000</td>\n",
       "      <td>1.000000</td>\n",
       "      <td>0.000000</td>\n",
       "      <td>2.000000</td>\n",
       "      <td>0.000000</td>\n",
       "    </tr>\n",
       "    <tr>\n",
       "      <th>50%</th>\n",
       "      <td>56.000000</td>\n",
       "      <td>1.000000</td>\n",
       "      <td>1.000000</td>\n",
       "      <td>130.000000</td>\n",
       "      <td>240.00000</td>\n",
       "      <td>0.000000</td>\n",
       "      <td>1.000000</td>\n",
       "      <td>152.000000</td>\n",
       "      <td>0.000000</td>\n",
       "      <td>0.800000</td>\n",
       "      <td>1.000000</td>\n",
       "      <td>0.000000</td>\n",
       "      <td>2.000000</td>\n",
       "      <td>1.000000</td>\n",
       "    </tr>\n",
       "    <tr>\n",
       "      <th>75%</th>\n",
       "      <td>61.000000</td>\n",
       "      <td>1.000000</td>\n",
       "      <td>2.000000</td>\n",
       "      <td>140.000000</td>\n",
       "      <td>275.00000</td>\n",
       "      <td>0.000000</td>\n",
       "      <td>1.000000</td>\n",
       "      <td>166.000000</td>\n",
       "      <td>1.000000</td>\n",
       "      <td>1.800000</td>\n",
       "      <td>2.000000</td>\n",
       "      <td>1.000000</td>\n",
       "      <td>3.000000</td>\n",
       "      <td>1.000000</td>\n",
       "    </tr>\n",
       "    <tr>\n",
       "      <th>max</th>\n",
       "      <td>77.000000</td>\n",
       "      <td>1.000000</td>\n",
       "      <td>3.000000</td>\n",
       "      <td>200.000000</td>\n",
       "      <td>564.00000</td>\n",
       "      <td>1.000000</td>\n",
       "      <td>2.000000</td>\n",
       "      <td>202.000000</td>\n",
       "      <td>1.000000</td>\n",
       "      <td>6.200000</td>\n",
       "      <td>2.000000</td>\n",
       "      <td>4.000000</td>\n",
       "      <td>3.000000</td>\n",
       "      <td>1.000000</td>\n",
       "    </tr>\n",
       "  </tbody>\n",
       "</table>\n",
       "</div>"
      ],
      "text/plain": [
       "               age          sex           cp     trestbps        chol  \\\n",
       "count  1025.000000  1025.000000  1025.000000  1025.000000  1025.00000   \n",
       "mean     54.434146     0.695610     0.942439   131.611707   246.00000   \n",
       "std       9.072290     0.460373     1.029641    17.516718    51.59251   \n",
       "min      29.000000     0.000000     0.000000    94.000000   126.00000   \n",
       "25%      48.000000     0.000000     0.000000   120.000000   211.00000   \n",
       "50%      56.000000     1.000000     1.000000   130.000000   240.00000   \n",
       "75%      61.000000     1.000000     2.000000   140.000000   275.00000   \n",
       "max      77.000000     1.000000     3.000000   200.000000   564.00000   \n",
       "\n",
       "               fbs      restecg      thalach        exang      oldpeak  \\\n",
       "count  1025.000000  1025.000000  1025.000000  1025.000000  1025.000000   \n",
       "mean      0.149268     0.529756   149.114146     0.336585     1.071512   \n",
       "std       0.356527     0.527878    23.005724     0.472772     1.175053   \n",
       "min       0.000000     0.000000    71.000000     0.000000     0.000000   \n",
       "25%       0.000000     0.000000   132.000000     0.000000     0.000000   \n",
       "50%       0.000000     1.000000   152.000000     0.000000     0.800000   \n",
       "75%       0.000000     1.000000   166.000000     1.000000     1.800000   \n",
       "max       1.000000     2.000000   202.000000     1.000000     6.200000   \n",
       "\n",
       "             slope           ca         thal       target  \n",
       "count  1025.000000  1025.000000  1025.000000  1025.000000  \n",
       "mean      1.385366     0.754146     2.323902     0.513171  \n",
       "std       0.617755     1.030798     0.620660     0.500070  \n",
       "min       0.000000     0.000000     0.000000     0.000000  \n",
       "25%       1.000000     0.000000     2.000000     0.000000  \n",
       "50%       1.000000     0.000000     2.000000     1.000000  \n",
       "75%       2.000000     1.000000     3.000000     1.000000  \n",
       "max       2.000000     4.000000     3.000000     1.000000  "
      ]
     },
     "execution_count": 1,
     "metadata": {},
     "output_type": "execute_result"
    }
   ],
   "source": [
    "import pandas as pd\n",
    "import numpy as np\n",
    "\n",
    "#heart = pd.read_csv(\"heart.csv\")\n",
    "heart = pd.read_csv('../input/heart-disease-dataset/heart.csv')\n",
    "heart.describe()"
   ]
  },
  {
   "cell_type": "code",
   "execution_count": 2,
   "id": "1dc62c4f",
   "metadata": {
    "execution": {
     "iopub.execute_input": "2022-07-04T11:29:42.870628Z",
     "iopub.status.busy": "2022-07-04T11:29:42.870270Z",
     "iopub.status.idle": "2022-07-04T11:29:42.876228Z",
     "shell.execute_reply": "2022-07-04T11:29:42.875441Z"
    },
    "papermill": {
     "duration": 0.014735,
     "end_time": "2022-07-04T11:29:42.878057",
     "exception": false,
     "start_time": "2022-07-04T11:29:42.863322",
     "status": "completed"
    },
    "tags": []
   },
   "outputs": [
    {
     "data": {
      "text/plain": [
       "(1025, 14)"
      ]
     },
     "execution_count": 2,
     "metadata": {},
     "output_type": "execute_result"
    }
   ],
   "source": [
    "heart.shape"
   ]
  },
  {
   "cell_type": "code",
   "execution_count": 3,
   "id": "47f069c8",
   "metadata": {
    "execution": {
     "iopub.execute_input": "2022-07-04T11:29:42.891492Z",
     "iopub.status.busy": "2022-07-04T11:29:42.891105Z",
     "iopub.status.idle": "2022-07-04T11:29:42.897592Z",
     "shell.execute_reply": "2022-07-04T11:29:42.896843Z"
    },
    "papermill": {
     "duration": 0.015443,
     "end_time": "2022-07-04T11:29:42.899371",
     "exception": false,
     "start_time": "2022-07-04T11:29:42.883928",
     "status": "completed"
    },
    "tags": []
   },
   "outputs": [
    {
     "data": {
      "text/plain": [
       "age           int64\n",
       "sex           int64\n",
       "cp            int64\n",
       "trestbps      int64\n",
       "chol          int64\n",
       "fbs           int64\n",
       "restecg       int64\n",
       "thalach       int64\n",
       "exang         int64\n",
       "oldpeak     float64\n",
       "slope         int64\n",
       "ca            int64\n",
       "thal          int64\n",
       "target        int64\n",
       "dtype: object"
      ]
     },
     "execution_count": 3,
     "metadata": {},
     "output_type": "execute_result"
    }
   ],
   "source": [
    "heart.dtypes"
   ]
  },
  {
   "cell_type": "code",
   "execution_count": 4,
   "id": "8eca0f0d",
   "metadata": {
    "execution": {
     "iopub.execute_input": "2022-07-04T11:29:42.912649Z",
     "iopub.status.busy": "2022-07-04T11:29:42.912287Z",
     "iopub.status.idle": "2022-07-04T11:29:42.922747Z",
     "shell.execute_reply": "2022-07-04T11:29:42.921847Z"
    },
    "papermill": {
     "duration": 0.019385,
     "end_time": "2022-07-04T11:29:42.924728",
     "exception": false,
     "start_time": "2022-07-04T11:29:42.905343",
     "status": "completed"
    },
    "tags": []
   },
   "outputs": [
    {
     "data": {
      "text/plain": [
       "age         0\n",
       "sex         0\n",
       "cp          0\n",
       "trestbps    0\n",
       "chol        0\n",
       "fbs         0\n",
       "restecg     0\n",
       "thalach     0\n",
       "exang       0\n",
       "oldpeak     0\n",
       "slope       0\n",
       "ca          0\n",
       "thal        0\n",
       "target      0\n",
       "dtype: int64"
      ]
     },
     "execution_count": 4,
     "metadata": {},
     "output_type": "execute_result"
    }
   ],
   "source": [
    "heart.isna().sum()"
   ]
  },
  {
   "cell_type": "code",
   "execution_count": 5,
   "id": "f133fb27",
   "metadata": {
    "execution": {
     "iopub.execute_input": "2022-07-04T11:29:42.938458Z",
     "iopub.status.busy": "2022-07-04T11:29:42.938064Z",
     "iopub.status.idle": "2022-07-04T11:29:42.953215Z",
     "shell.execute_reply": "2022-07-04T11:29:42.952050Z"
    },
    "papermill": {
     "duration": 0.024827,
     "end_time": "2022-07-04T11:29:42.955405",
     "exception": false,
     "start_time": "2022-07-04T11:29:42.930578",
     "status": "completed"
    },
    "tags": []
   },
   "outputs": [
    {
     "data": {
      "text/html": [
       "<div>\n",
       "<style scoped>\n",
       "    .dataframe tbody tr th:only-of-type {\n",
       "        vertical-align: middle;\n",
       "    }\n",
       "\n",
       "    .dataframe tbody tr th {\n",
       "        vertical-align: top;\n",
       "    }\n",
       "\n",
       "    .dataframe thead th {\n",
       "        text-align: right;\n",
       "    }\n",
       "</style>\n",
       "<table border=\"1\" class=\"dataframe\">\n",
       "  <thead>\n",
       "    <tr style=\"text-align: right;\">\n",
       "      <th></th>\n",
       "      <th>age</th>\n",
       "      <th>sex</th>\n",
       "      <th>cp</th>\n",
       "      <th>trestbps</th>\n",
       "      <th>chol</th>\n",
       "      <th>fbs</th>\n",
       "      <th>restecg</th>\n",
       "      <th>thalach</th>\n",
       "      <th>exang</th>\n",
       "      <th>oldpeak</th>\n",
       "      <th>slope</th>\n",
       "      <th>ca</th>\n",
       "      <th>thal</th>\n",
       "      <th>target</th>\n",
       "    </tr>\n",
       "  </thead>\n",
       "  <tbody>\n",
       "    <tr>\n",
       "      <th>0</th>\n",
       "      <td>52</td>\n",
       "      <td>1</td>\n",
       "      <td>0</td>\n",
       "      <td>125</td>\n",
       "      <td>212</td>\n",
       "      <td>0</td>\n",
       "      <td>1</td>\n",
       "      <td>168</td>\n",
       "      <td>0</td>\n",
       "      <td>1.0</td>\n",
       "      <td>2</td>\n",
       "      <td>2</td>\n",
       "      <td>3</td>\n",
       "      <td>0</td>\n",
       "    </tr>\n",
       "    <tr>\n",
       "      <th>1</th>\n",
       "      <td>53</td>\n",
       "      <td>1</td>\n",
       "      <td>0</td>\n",
       "      <td>140</td>\n",
       "      <td>203</td>\n",
       "      <td>1</td>\n",
       "      <td>0</td>\n",
       "      <td>155</td>\n",
       "      <td>1</td>\n",
       "      <td>3.1</td>\n",
       "      <td>0</td>\n",
       "      <td>0</td>\n",
       "      <td>3</td>\n",
       "      <td>0</td>\n",
       "    </tr>\n",
       "    <tr>\n",
       "      <th>2</th>\n",
       "      <td>70</td>\n",
       "      <td>1</td>\n",
       "      <td>0</td>\n",
       "      <td>145</td>\n",
       "      <td>174</td>\n",
       "      <td>0</td>\n",
       "      <td>1</td>\n",
       "      <td>125</td>\n",
       "      <td>1</td>\n",
       "      <td>2.6</td>\n",
       "      <td>0</td>\n",
       "      <td>0</td>\n",
       "      <td>3</td>\n",
       "      <td>0</td>\n",
       "    </tr>\n",
       "    <tr>\n",
       "      <th>3</th>\n",
       "      <td>61</td>\n",
       "      <td>1</td>\n",
       "      <td>0</td>\n",
       "      <td>148</td>\n",
       "      <td>203</td>\n",
       "      <td>0</td>\n",
       "      <td>1</td>\n",
       "      <td>161</td>\n",
       "      <td>0</td>\n",
       "      <td>0.0</td>\n",
       "      <td>2</td>\n",
       "      <td>1</td>\n",
       "      <td>3</td>\n",
       "      <td>0</td>\n",
       "    </tr>\n",
       "    <tr>\n",
       "      <th>4</th>\n",
       "      <td>62</td>\n",
       "      <td>0</td>\n",
       "      <td>0</td>\n",
       "      <td>138</td>\n",
       "      <td>294</td>\n",
       "      <td>1</td>\n",
       "      <td>1</td>\n",
       "      <td>106</td>\n",
       "      <td>0</td>\n",
       "      <td>1.9</td>\n",
       "      <td>1</td>\n",
       "      <td>3</td>\n",
       "      <td>2</td>\n",
       "      <td>0</td>\n",
       "    </tr>\n",
       "  </tbody>\n",
       "</table>\n",
       "</div>"
      ],
      "text/plain": [
       "   age  sex  cp  trestbps  chol  fbs  restecg  thalach  exang  oldpeak  slope  \\\n",
       "0   52    1   0       125   212    0        1      168      0      1.0      2   \n",
       "1   53    1   0       140   203    1        0      155      1      3.1      0   \n",
       "2   70    1   0       145   174    0        1      125      1      2.6      0   \n",
       "3   61    1   0       148   203    0        1      161      0      0.0      2   \n",
       "4   62    0   0       138   294    1        1      106      0      1.9      1   \n",
       "\n",
       "   ca  thal  target  \n",
       "0   2     3       0  \n",
       "1   0     3       0  \n",
       "2   0     3       0  \n",
       "3   1     3       0  \n",
       "4   3     2       0  "
      ]
     },
     "execution_count": 5,
     "metadata": {},
     "output_type": "execute_result"
    }
   ],
   "source": [
    "heart.head()"
   ]
  },
  {
   "cell_type": "code",
   "execution_count": 6,
   "id": "63e6c84a",
   "metadata": {
    "execution": {
     "iopub.execute_input": "2022-07-04T11:29:42.970162Z",
     "iopub.status.busy": "2022-07-04T11:29:42.969789Z",
     "iopub.status.idle": "2022-07-04T11:29:42.975564Z",
     "shell.execute_reply": "2022-07-04T11:29:42.974547Z"
    },
    "papermill": {
     "duration": 0.016182,
     "end_time": "2022-07-04T11:29:42.977898",
     "exception": false,
     "start_time": "2022-07-04T11:29:42.961716",
     "status": "completed"
    },
    "tags": []
   },
   "outputs": [],
   "source": [
    "labels= np.array(heart.iloc[:,-1:])"
   ]
  },
  {
   "cell_type": "code",
   "execution_count": 7,
   "id": "5b724496",
   "metadata": {
    "execution": {
     "iopub.execute_input": "2022-07-04T11:29:42.991968Z",
     "iopub.status.busy": "2022-07-04T11:29:42.991604Z",
     "iopub.status.idle": "2022-07-04T11:29:42.998256Z",
     "shell.execute_reply": "2022-07-04T11:29:42.997121Z"
    },
    "papermill": {
     "duration": 0.016235,
     "end_time": "2022-07-04T11:29:43.000349",
     "exception": false,
     "start_time": "2022-07-04T11:29:42.984114",
     "status": "completed"
    },
    "tags": []
   },
   "outputs": [
    {
     "data": {
      "text/plain": [
       "array([[0],\n",
       "       [0],\n",
       "       [0],\n",
       "       ...,\n",
       "       [0],\n",
       "       [1],\n",
       "       [0]])"
      ]
     },
     "execution_count": 7,
     "metadata": {},
     "output_type": "execute_result"
    }
   ],
   "source": [
    "labels"
   ]
  },
  {
   "cell_type": "code",
   "execution_count": 8,
   "id": "6a5117ee",
   "metadata": {
    "execution": {
     "iopub.execute_input": "2022-07-04T11:29:43.014335Z",
     "iopub.status.busy": "2022-07-04T11:29:43.013935Z",
     "iopub.status.idle": "2022-07-04T11:29:43.021420Z",
     "shell.execute_reply": "2022-07-04T11:29:43.020586Z"
    },
    "papermill": {
     "duration": 0.016802,
     "end_time": "2022-07-04T11:29:43.023395",
     "exception": false,
     "start_time": "2022-07-04T11:29:43.006593",
     "status": "completed"
    },
    "tags": []
   },
   "outputs": [
    {
     "data": {
      "text/plain": [
       "array([[52.,  1.,  0., ...,  2.,  2.,  3.],\n",
       "       [53.,  1.,  0., ...,  0.,  0.,  3.],\n",
       "       [70.,  1.,  0., ...,  0.,  0.,  3.],\n",
       "       ...,\n",
       "       [47.,  1.,  0., ...,  1.,  1.,  2.],\n",
       "       [50.,  0.,  0., ...,  2.,  0.,  2.],\n",
       "       [54.,  1.,  0., ...,  1.,  1.,  3.]])"
      ]
     },
     "execution_count": 8,
     "metadata": {},
     "output_type": "execute_result"
    }
   ],
   "source": [
    "features= np.array(heart.iloc[:,:13])\n",
    "features"
   ]
  },
  {
   "cell_type": "code",
   "execution_count": 9,
   "id": "a114a435",
   "metadata": {
    "execution": {
     "iopub.execute_input": "2022-07-04T11:29:43.037915Z",
     "iopub.status.busy": "2022-07-04T11:29:43.037541Z",
     "iopub.status.idle": "2022-07-04T11:29:44.279558Z",
     "shell.execute_reply": "2022-07-04T11:29:44.278412Z"
    },
    "papermill": {
     "duration": 1.252342,
     "end_time": "2022-07-04T11:29:44.282100",
     "exception": false,
     "start_time": "2022-07-04T11:29:43.029758",
     "status": "completed"
    },
    "tags": []
   },
   "outputs": [],
   "source": [
    "from sklearn.model_selection import train_test_split\n",
    "X_train, X_test, y_train, y_test = train_test_split(features, labels, test_size=0.3, random_state=0)"
   ]
  },
  {
   "cell_type": "code",
   "execution_count": 10,
   "id": "311b0739",
   "metadata": {
    "execution": {
     "iopub.execute_input": "2022-07-04T11:29:44.296559Z",
     "iopub.status.busy": "2022-07-04T11:29:44.296138Z",
     "iopub.status.idle": "2022-07-04T11:29:44.302210Z",
     "shell.execute_reply": "2022-07-04T11:29:44.301290Z"
    },
    "papermill": {
     "duration": 0.015812,
     "end_time": "2022-07-04T11:29:44.304233",
     "exception": false,
     "start_time": "2022-07-04T11:29:44.288421",
     "status": "completed"
    },
    "tags": []
   },
   "outputs": [],
   "source": [
    "from sklearn.preprocessing import StandardScaler\n",
    "# define min max scaler\n",
    "scaler = StandardScaler()\n",
    "# transform data\n",
    "X_train_scaled = scaler.fit_transform(X_train)"
   ]
  },
  {
   "cell_type": "code",
   "execution_count": 11,
   "id": "89ec0c35",
   "metadata": {
    "execution": {
     "iopub.execute_input": "2022-07-04T11:29:44.320148Z",
     "iopub.status.busy": "2022-07-04T11:29:44.318932Z",
     "iopub.status.idle": "2022-07-04T11:29:44.326567Z",
     "shell.execute_reply": "2022-07-04T11:29:44.325448Z"
    },
    "papermill": {
     "duration": 0.017904,
     "end_time": "2022-07-04T11:29:44.328721",
     "exception": false,
     "start_time": "2022-07-04T11:29:44.310817",
     "status": "completed"
    },
    "tags": []
   },
   "outputs": [
    {
     "data": {
      "text/plain": [
       "array([[ 0.27717522,  0.65226323,  1.02564169, ...,  0.9790949 ,\n",
       "        -0.73793656, -0.51108759],\n",
       "       [ 0.49897726,  0.65226323, -0.91725155, ..., -0.66111782,\n",
       "         1.20371671, -2.12540389],\n",
       "       [ 1.82978951, -1.53312338, -0.91725155, ..., -0.66111782,\n",
       "        -0.73793656, -0.51108759],\n",
       "       ...,\n",
       "       [ 1.16438338,  0.65226323,  1.99708831, ..., -0.66111782,\n",
       "         0.23289007, -0.51108759],\n",
       "       [ 1.38618543,  0.65226323, -0.91725155, ..., -0.66111782,\n",
       "        -0.73793656, -0.51108759],\n",
       "       [ 0.60987828,  0.65226323,  1.02564169, ..., -0.66111782,\n",
       "        -0.73793656, -0.51108759]])"
      ]
     },
     "execution_count": 11,
     "metadata": {},
     "output_type": "execute_result"
    }
   ],
   "source": [
    "X_train_scaled"
   ]
  },
  {
   "cell_type": "code",
   "execution_count": 12,
   "id": "ed03db0e",
   "metadata": {
    "execution": {
     "iopub.execute_input": "2022-07-04T11:29:44.343152Z",
     "iopub.status.busy": "2022-07-04T11:29:44.342781Z",
     "iopub.status.idle": "2022-07-04T11:29:44.351101Z",
     "shell.execute_reply": "2022-07-04T11:29:44.349828Z"
    },
    "papermill": {
     "duration": 0.018207,
     "end_time": "2022-07-04T11:29:44.353318",
     "exception": false,
     "start_time": "2022-07-04T11:29:44.335111",
     "status": "completed"
    },
    "tags": []
   },
   "outputs": [
    {
     "data": {
      "text/plain": [
       "array([[-1.11935087,  0.68313005,  1.0322342 , ...,  1.03563873,\n",
       "        -0.7181895 , -0.54798356],\n",
       "       [ 0.40517249, -1.46385011,  0.05997691, ...,  1.03563873,\n",
       "         1.22218213, -0.54798356],\n",
       "       [ 0.94964512,  0.68313005, -0.91228038, ...,  1.03563873,\n",
       "         1.22218213,  1.05943489],\n",
       "       ...,\n",
       "       [ 0.18738344,  0.68313005,  1.0322342 , ..., -0.54345399,\n",
       "         0.25199632, -2.15540202],\n",
       "       [ 0.29627796, -1.46385011, -0.91228038, ...,  1.03563873,\n",
       "        -0.7181895 , -0.54798356],\n",
       "       [-0.03040561,  0.68313005, -0.91228038, ..., -0.54345399,\n",
       "         0.25199632,  1.05943489]])"
      ]
     },
     "execution_count": 12,
     "metadata": {},
     "output_type": "execute_result"
    }
   ],
   "source": [
    "X_test_scaled = scaler.fit_transform(X_test)\n",
    "X_test_scaled"
   ]
  },
  {
   "cell_type": "markdown",
   "id": "72afbd73",
   "metadata": {
    "papermill": {
     "duration": 0.006486,
     "end_time": "2022-07-04T11:29:44.367272",
     "exception": false,
     "start_time": "2022-07-04T11:29:44.360786",
     "status": "completed"
    },
    "tags": []
   },
   "source": [
    "### Linear Kernel"
   ]
  },
  {
   "cell_type": "code",
   "execution_count": 13,
   "id": "4f0cab76",
   "metadata": {
    "execution": {
     "iopub.execute_input": "2022-07-04T11:29:44.383307Z",
     "iopub.status.busy": "2022-07-04T11:29:44.382221Z",
     "iopub.status.idle": "2022-07-04T11:29:44.500504Z",
     "shell.execute_reply": "2022-07-04T11:29:44.498942Z"
    },
    "papermill": {
     "duration": 0.128962,
     "end_time": "2022-07-04T11:29:44.503101",
     "exception": false,
     "start_time": "2022-07-04T11:29:44.374139",
     "status": "completed"
    },
    "tags": []
   },
   "outputs": [
    {
     "name": "stdout",
     "output_type": "stream",
     "text": [
      "Accuracy: 0.8270571827057183\n"
     ]
    },
    {
     "name": "stderr",
     "output_type": "stream",
     "text": [
      "/opt/conda/lib/python3.7/site-packages/sklearn/utils/validation.py:993: DataConversionWarning: A column-vector y was passed when a 1d array was expected. Please change the shape of y to (n_samples, ), for example using ravel().\n",
      "  y = column_or_1d(y, warn=True)\n"
     ]
    }
   ],
   "source": [
    "from sklearn.svm import SVC\n",
    "svm_linear = SVC(kernel='linear', C=0.01)\n",
    "svm_linear.fit(X_train_scaled, y_train)\n",
    "print(\"Accuracy:\", svm_linear.score(X_train_scaled, y_train))"
   ]
  },
  {
   "cell_type": "code",
   "execution_count": 14,
   "id": "2742e817",
   "metadata": {
    "execution": {
     "iopub.execute_input": "2022-07-04T11:29:44.518571Z",
     "iopub.status.busy": "2022-07-04T11:29:44.517808Z",
     "iopub.status.idle": "2022-07-04T11:29:44.528170Z",
     "shell.execute_reply": "2022-07-04T11:29:44.527019Z"
    },
    "papermill": {
     "duration": 0.020855,
     "end_time": "2022-07-04T11:29:44.530615",
     "exception": false,
     "start_time": "2022-07-04T11:29:44.509760",
     "status": "completed"
    },
    "tags": []
   },
   "outputs": [
    {
     "name": "stdout",
     "output_type": "stream",
     "text": [
      "Accuracy: 0.8506493506493507\n"
     ]
    }
   ],
   "source": [
    "print(\"Accuracy:\", svm_linear.score(X_test_scaled, y_test))"
   ]
  },
  {
   "cell_type": "code",
   "execution_count": 15,
   "id": "b6ba0f80",
   "metadata": {
    "execution": {
     "iopub.execute_input": "2022-07-04T11:29:44.545710Z",
     "iopub.status.busy": "2022-07-04T11:29:44.545327Z",
     "iopub.status.idle": "2022-07-04T11:29:45.370957Z",
     "shell.execute_reply": "2022-07-04T11:29:45.369165Z"
    },
    "papermill": {
     "duration": 0.836225,
     "end_time": "2022-07-04T11:29:45.373499",
     "exception": false,
     "start_time": "2022-07-04T11:29:44.537274",
     "status": "completed"
    },
    "tags": []
   },
   "outputs": [
    {
     "name": "stderr",
     "output_type": "stream",
     "text": [
      "/opt/conda/lib/python3.7/site-packages/sklearn/utils/validation.py:993: DataConversionWarning: A column-vector y was passed when a 1d array was expected. Please change the shape of y to (n_samples, ), for example using ravel().\n",
      "  y = column_or_1d(y, warn=True)\n"
     ]
    },
    {
     "name": "stdout",
     "output_type": "stream",
     "text": [
      "Accuracy: 0.8326359832635983\n"
     ]
    }
   ],
   "source": [
    "from sklearn.svm import SVC\n",
    "svm_linear = SVC(kernel='linear', C=100)\n",
    "svm_linear.fit(X_train_scaled, y_train)\n",
    "print(\"Accuracy:\", svm_linear.score(X_train_scaled, y_train))"
   ]
  },
  {
   "cell_type": "code",
   "execution_count": 16,
   "id": "dbf7308a",
   "metadata": {
    "execution": {
     "iopub.execute_input": "2022-07-04T11:29:45.389021Z",
     "iopub.status.busy": "2022-07-04T11:29:45.388437Z",
     "iopub.status.idle": "2022-07-04T11:29:45.397520Z",
     "shell.execute_reply": "2022-07-04T11:29:45.396125Z"
    },
    "papermill": {
     "duration": 0.019499,
     "end_time": "2022-07-04T11:29:45.399939",
     "exception": false,
     "start_time": "2022-07-04T11:29:45.380440",
     "status": "completed"
    },
    "tags": []
   },
   "outputs": [
    {
     "name": "stdout",
     "output_type": "stream",
     "text": [
      "Accuracy: 0.8571428571428571\n"
     ]
    }
   ],
   "source": [
    "print(\"Accuracy:\", svm_linear.score(X_test_scaled, y_test))"
   ]
  },
  {
   "cell_type": "markdown",
   "id": "0540b323",
   "metadata": {
    "papermill": {
     "duration": 0.006395,
     "end_time": "2022-07-04T11:29:45.413269",
     "exception": false,
     "start_time": "2022-07-04T11:29:45.406874",
     "status": "completed"
    },
    "tags": []
   },
   "source": [
    "### Polynomial Kernel"
   ]
  },
  {
   "cell_type": "code",
   "execution_count": 17,
   "id": "329157e9",
   "metadata": {
    "execution": {
     "iopub.execute_input": "2022-07-04T11:29:45.429083Z",
     "iopub.status.busy": "2022-07-04T11:29:45.428435Z",
     "iopub.status.idle": "2022-07-04T11:29:45.469898Z",
     "shell.execute_reply": "2022-07-04T11:29:45.468180Z"
    },
    "papermill": {
     "duration": 0.052114,
     "end_time": "2022-07-04T11:29:45.472467",
     "exception": false,
     "start_time": "2022-07-04T11:29:45.420353",
     "status": "completed"
    },
    "tags": []
   },
   "outputs": [
    {
     "name": "stdout",
     "output_type": "stream",
     "text": [
      "Polynomial kernel of degree = 2\n",
      "Accuracy: 0.8507670850767085\n"
     ]
    },
    {
     "name": "stderr",
     "output_type": "stream",
     "text": [
      "/opt/conda/lib/python3.7/site-packages/sklearn/utils/validation.py:993: DataConversionWarning: A column-vector y was passed when a 1d array was expected. Please change the shape of y to (n_samples, ), for example using ravel().\n",
      "  y = column_or_1d(y, warn=True)\n"
     ]
    }
   ],
   "source": [
    "# Degree = 2\n",
    "svm_degree_2 = SVC(kernel='poly', degree=2)\n",
    "svm_degree_2.fit(X_train_scaled, y_train)\n",
    "print(\"Polynomial kernel of degree = 2\")\n",
    "print(\"Accuracy:\", svm_degree_2.score(X_train_scaled, y_train))"
   ]
  },
  {
   "cell_type": "code",
   "execution_count": 18,
   "id": "a615a375",
   "metadata": {
    "execution": {
     "iopub.execute_input": "2022-07-04T11:29:45.488557Z",
     "iopub.status.busy": "2022-07-04T11:29:45.487500Z",
     "iopub.status.idle": "2022-07-04T11:29:45.499851Z",
     "shell.execute_reply": "2022-07-04T11:29:45.498508Z"
    },
    "papermill": {
     "duration": 0.022902,
     "end_time": "2022-07-04T11:29:45.502243",
     "exception": false,
     "start_time": "2022-07-04T11:29:45.479341",
     "status": "completed"
    },
    "tags": []
   },
   "outputs": [
    {
     "name": "stdout",
     "output_type": "stream",
     "text": [
      "Accuracy: 0.8701298701298701\n"
     ]
    }
   ],
   "source": [
    "print(\"Accuracy:\", svm_degree_2.score(X_test_scaled, y_test))"
   ]
  },
  {
   "cell_type": "code",
   "execution_count": 19,
   "id": "51d48480",
   "metadata": {
    "execution": {
     "iopub.execute_input": "2022-07-04T11:29:45.517887Z",
     "iopub.status.busy": "2022-07-04T11:29:45.517488Z",
     "iopub.status.idle": "2022-07-04T11:29:45.554828Z",
     "shell.execute_reply": "2022-07-04T11:29:45.553547Z"
    },
    "papermill": {
     "duration": 0.047972,
     "end_time": "2022-07-04T11:29:45.557274",
     "exception": false,
     "start_time": "2022-07-04T11:29:45.509302",
     "status": "completed"
    },
    "tags": []
   },
   "outputs": [
    {
     "name": "stdout",
     "output_type": "stream",
     "text": [
      "Polynomial kernel of degree = 4\n",
      "Accuracy: 0.9330543933054394\n"
     ]
    },
    {
     "name": "stderr",
     "output_type": "stream",
     "text": [
      "/opt/conda/lib/python3.7/site-packages/sklearn/utils/validation.py:993: DataConversionWarning: A column-vector y was passed when a 1d array was expected. Please change the shape of y to (n_samples, ), for example using ravel().\n",
      "  y = column_or_1d(y, warn=True)\n"
     ]
    }
   ],
   "source": [
    "# Degree = 4\n",
    "svm_degree_4 = SVC(kernel='poly', degree=4)\n",
    "svm_degree_4.fit(X_train_scaled, y_train)\n",
    "print(\"Polynomial kernel of degree = 4\")\n",
    "print(\"Accuracy:\", svm_degree_4.score(X_train_scaled, y_train))"
   ]
  },
  {
   "cell_type": "code",
   "execution_count": 20,
   "id": "14994714",
   "metadata": {
    "execution": {
     "iopub.execute_input": "2022-07-04T11:29:45.573136Z",
     "iopub.status.busy": "2022-07-04T11:29:45.572751Z",
     "iopub.status.idle": "2022-07-04T11:29:45.584638Z",
     "shell.execute_reply": "2022-07-04T11:29:45.583143Z"
    },
    "papermill": {
     "duration": 0.022129,
     "end_time": "2022-07-04T11:29:45.586645",
     "exception": false,
     "start_time": "2022-07-04T11:29:45.564516",
     "status": "completed"
    },
    "tags": []
   },
   "outputs": [
    {
     "name": "stdout",
     "output_type": "stream",
     "text": [
      "Accuracy: 0.948051948051948\n"
     ]
    }
   ],
   "source": [
    "print(\"Accuracy:\", svm_degree_4.score(X_test_scaled, y_test))"
   ]
  },
  {
   "cell_type": "markdown",
   "id": "2930a2f9",
   "metadata": {
    "papermill": {
     "duration": 0.007708,
     "end_time": "2022-07-04T11:29:45.601607",
     "exception": false,
     "start_time": "2022-07-04T11:29:45.593899",
     "status": "completed"
    },
    "tags": []
   },
   "source": [
    "### RBF Kernel"
   ]
  },
  {
   "cell_type": "code",
   "execution_count": 21,
   "id": "2a5ec934",
   "metadata": {
    "execution": {
     "iopub.execute_input": "2022-07-04T11:29:45.617933Z",
     "iopub.status.busy": "2022-07-04T11:29:45.617528Z",
     "iopub.status.idle": "2022-07-04T11:29:45.656182Z",
     "shell.execute_reply": "2022-07-04T11:29:45.654540Z"
    },
    "papermill": {
     "duration": 0.049785,
     "end_time": "2022-07-04T11:29:45.658651",
     "exception": false,
     "start_time": "2022-07-04T11:29:45.608866",
     "status": "completed"
    },
    "tags": []
   },
   "outputs": [
    {
     "name": "stderr",
     "output_type": "stream",
     "text": [
      "/opt/conda/lib/python3.7/site-packages/sklearn/utils/validation.py:993: DataConversionWarning: A column-vector y was passed when a 1d array was expected. Please change the shape of y to (n_samples, ), for example using ravel().\n",
      "  y = column_or_1d(y, warn=True)\n"
     ]
    },
    {
     "name": "stdout",
     "output_type": "stream",
     "text": [
      "Gamma = 0.1\n",
      "Accuracy: 0.9623430962343096\n"
     ]
    }
   ],
   "source": [
    "# gamma = 0.1\n",
    "svm_gamma_01 = SVC(kernel='rbf', gamma=0.1)\n",
    "svm_gamma_01.fit(X_train_scaled, y_train)\n",
    "print(\"Gamma = 0.1\")\n",
    "print(\"Accuracy:\", svm_gamma_01.score(X_train_scaled, y_train))"
   ]
  },
  {
   "cell_type": "code",
   "execution_count": 22,
   "id": "27a61fd5",
   "metadata": {
    "execution": {
     "iopub.execute_input": "2022-07-04T11:29:45.675429Z",
     "iopub.status.busy": "2022-07-04T11:29:45.675049Z",
     "iopub.status.idle": "2022-07-04T11:29:45.687310Z",
     "shell.execute_reply": "2022-07-04T11:29:45.686179Z"
    },
    "papermill": {
     "duration": 0.023188,
     "end_time": "2022-07-04T11:29:45.689433",
     "exception": false,
     "start_time": "2022-07-04T11:29:45.666245",
     "status": "completed"
    },
    "tags": []
   },
   "outputs": [
    {
     "name": "stdout",
     "output_type": "stream",
     "text": [
      "Accuracy: 0.974025974025974\n"
     ]
    }
   ],
   "source": [
    "print(\"Accuracy:\", svm_gamma_01.score(X_test_scaled, y_test))"
   ]
  },
  {
   "cell_type": "code",
   "execution_count": 23,
   "id": "9d717e62",
   "metadata": {
    "execution": {
     "iopub.execute_input": "2022-07-04T11:29:45.705844Z",
     "iopub.status.busy": "2022-07-04T11:29:45.705456Z",
     "iopub.status.idle": "2022-07-04T11:29:45.753521Z",
     "shell.execute_reply": "2022-07-04T11:29:45.752475Z"
    },
    "papermill": {
     "duration": 0.059235,
     "end_time": "2022-07-04T11:29:45.755774",
     "exception": false,
     "start_time": "2022-07-04T11:29:45.696539",
     "status": "completed"
    },
    "tags": []
   },
   "outputs": [
    {
     "name": "stderr",
     "output_type": "stream",
     "text": [
      "/opt/conda/lib/python3.7/site-packages/sklearn/utils/validation.py:993: DataConversionWarning: A column-vector y was passed when a 1d array was expected. Please change the shape of y to (n_samples, ), for example using ravel().\n",
      "  y = column_or_1d(y, warn=True)\n"
     ]
    },
    {
     "name": "stdout",
     "output_type": "stream",
     "text": [
      "Gamma = 1\n",
      "Accuracy: 1.0\n"
     ]
    }
   ],
   "source": [
    "# gamma = 1\n",
    "svm_gamma_1 = SVC(kernel='rbf', gamma=1)\n",
    "svm_gamma_1.fit(X_train_scaled, y_train)\n",
    "print(\"Gamma = 1\")\n",
    "print(\"Accuracy:\", svm_gamma_1.score(X_train_scaled, y_train))"
   ]
  },
  {
   "cell_type": "code",
   "execution_count": 24,
   "id": "1eabfa8a",
   "metadata": {
    "execution": {
     "iopub.execute_input": "2022-07-04T11:29:45.772014Z",
     "iopub.status.busy": "2022-07-04T11:29:45.771650Z",
     "iopub.status.idle": "2022-07-04T11:29:45.786684Z",
     "shell.execute_reply": "2022-07-04T11:29:45.785164Z"
    },
    "papermill": {
     "duration": 0.025971,
     "end_time": "2022-07-04T11:29:45.788943",
     "exception": false,
     "start_time": "2022-07-04T11:29:45.762972",
     "status": "completed"
    },
    "tags": []
   },
   "outputs": [
    {
     "name": "stdout",
     "output_type": "stream",
     "text": [
      "Accuracy: 0.987012987012987\n"
     ]
    }
   ],
   "source": [
    "print(\"Accuracy:\", svm_gamma_1.score(X_test_scaled, y_test))"
   ]
  }
 ],
 "metadata": {
  "kernelspec": {
   "display_name": "Python 3 (ipykernel)",
   "language": "python",
   "name": "python3"
  },
  "language_info": {
   "codemirror_mode": {
    "name": "ipython",
    "version": 3
   },
   "file_extension": ".py",
   "mimetype": "text/x-python",
   "name": "python",
   "nbconvert_exporter": "python",
   "pygments_lexer": "ipython3",
   "version": "3.10.8"
  },
  "papermill": {
   "default_parameters": {},
   "duration": 13.097539,
   "end_time": "2022-07-04T11:29:46.518415",
   "environment_variables": {},
   "exception": null,
   "input_path": "__notebook__.ipynb",
   "output_path": "__notebook__.ipynb",
   "parameters": {},
   "start_time": "2022-07-04T11:29:33.420876",
   "version": "2.3.4"
  }
 },
 "nbformat": 4,
 "nbformat_minor": 5
}
