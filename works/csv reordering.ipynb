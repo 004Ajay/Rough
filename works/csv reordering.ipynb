{
 "cells": [
  {
   "cell_type": "code",
   "execution_count": 1,
   "id": "93de8099",
   "metadata": {},
   "outputs": [
    {
     "name": "stdout",
     "output_type": "stream",
     "text": [
      "Before sorting:\n",
      " values\n",
      "     11\n",
      "     15\n",
      "     18\n",
      "     17\n",
      "     20\n",
      "     13\n",
      "     19\n",
      "     10\n",
      "     14\n",
      "      8\n",
      "\n",
      "After sorting: [8, 10, 11, 13, 14, 15, 17, 18, 19, 20]\n"
     ]
    }
   ],
   "source": [
    "import pandas as pd\n",
    "\n",
    "df = pd.read_csv('rand_nums.csv', header = 0)\n",
    "col = df['values']\n",
    "\n",
    "print(f\"Before sorting:\\n{df.to_string(index=False)}\\n\\nAfter sorting: {sorted(col)}\")"
   ]
  },
  {
   "cell_type": "code",
   "execution_count": null,
   "id": "0bdbb1f9",
   "metadata": {},
   "outputs": [],
   "source": []
  }
 ],
 "metadata": {
  "kernelspec": {
   "display_name": "Python 3 (ipykernel)",
   "language": "python",
   "name": "python3"
  },
  "language_info": {
   "codemirror_mode": {
    "name": "ipython",
    "version": 3
   },
   "file_extension": ".py",
   "mimetype": "text/x-python",
   "name": "python",
   "nbconvert_exporter": "python",
   "pygments_lexer": "ipython3",
   "version": "3.10.5"
  }
 },
 "nbformat": 4,
 "nbformat_minor": 5
}
