{
 "cells": [
  {
   "cell_type": "code",
   "execution_count": 3,
   "id": "8dbb9882",
   "metadata": {},
   "outputs": [
    {
     "name": "stdout",
     "output_type": "stream",
     "text": [
      "Mean: 16.555555555555557\n",
      "Median: 9 & 10\n",
      "Mode: 15\n",
      "Standrad Deviation: 4.8559\n"
     ]
    }
   ],
   "source": [
    "import math\n",
    "\n",
    "data = [9, 10, 12, 13, 13, 13, 15, 15, 15, 15, 16, 16, 18, 22, 23, 24, 24, 25]\n",
    "leng = len(data)\n",
    "\n",
    "# ----------------------------------------------------------------------------------- #\n",
    "\n",
    "# Mean\n",
    "mean = sum(data)/leng\n",
    "print(\"Mean:\", mean)\n",
    "\n",
    "# ----------------------------------------------------------------------------------- #\n",
    "\n",
    "# Median\n",
    "_sorted = sorted(data)\n",
    "if leng % 2 == 0: # if length of dataset is an even number\n",
    "    loc1 = int(leng/2)\n",
    "    loc2 = int((leng/2)+1)\n",
    "    print(\"Median:\", loc1, \"&\", loc2)\n",
    "else: # if length of dataset is an odd number\n",
    "    loc = int((count+1)/2)\n",
    "    print(\"Median: \", _sorted[loc])\n",
    "\n",
    "# ----------------------------------------------------------------------------------- #\n",
    "\n",
    "# Mode\n",
    "dic = {}\n",
    "\n",
    "for i in data:\n",
    "    dic[i] = data.count(i) \n",
    "\n",
    "key_list = list(dic.keys())\n",
    "val_list = list(dic.values())\n",
    "\n",
    "pos = val_list.index(max(val_list))\n",
    "print(\"Mode:\", key_list[pos]) # print key with max value\n",
    "\n",
    "# ----------------------------------------------------------------------------------- #\n",
    "\n",
    "# Standard Deviation\n",
    "# SD = \n",
    "\n",
    "sq = []\n",
    "\n",
    "for i in data:\n",
    "    sq.append((i-mean)**2)\n",
    "    \n",
    "ins_sqrt = sum(sq)/leng\n",
    "sd = math.sqrt(ins_sqrt)\n",
    "print(\"Standrad Deviation:\", round(sd, 4))"
   ]
  },
  {
   "cell_type": "code",
   "execution_count": 4,
   "id": "af946603",
   "metadata": {},
   "outputs": [
    {
     "name": "stdout",
     "output_type": "stream",
     "text": [
      "Mean:  3\n",
      "Median:  3\n",
      "Mode:  1\n",
      "Standard Deviation:  1.4142135623730951\n",
      "Percentile:  3.0\n"
     ]
    },
    {
     "data": {
      "image/png": "[encoded data removed]",
      "text/plain": [
       "<Figure size 432x288 with 1 Axes>"
      ]
     },
     "metadata": {
      "needs_background": "light"
     },
     "output_type": "display_data"
    },
    {
     "data": {
      "image/png": "[encoded data removed]",
      "text/plain": [
       "<Figure size 432x288 with 1 Axes>"
      ]
     },
     "metadata": {
      "needs_background": "light"
     },
     "output_type": "display_data"
    },
    {
     "data": {
      "image/png": "[encoded data removed]",
      "text/plain": [
       "<Figure size 432x288 with 1 Axes>"
      ]
     },
     "metadata": {
      "needs_background": "light"
     },
     "output_type": "display_data"
    },
    {
     "data": {
      "image/png": "[encoded data removed]",
      "text/plain": [
       "<Figure size 432x288 with 1 Axes>"
      ]
     },
     "metadata": {
      "needs_background": "light"
     },
     "output_type": "display_data"
    }
   ],
   "source": [
    "import statistics as st # mean, median, mode\n",
    "import numpy as np # standard deviation, percentile\n",
    "import matplotlib.pyplot as plt # data distributions\n",
    "\n",
    "data = [1,2,3,4,5]\n",
    "\n",
    "#mean\n",
    "print(\"Mean: \", st.mean(data))\n",
    "\n",
    "#median\n",
    "print(\"Median: \", st.median(data))\n",
    "\n",
    "#mode\n",
    "print(\"Mode: \", st.mode(data))\n",
    "\n",
    "#standard deviation\n",
    "print(\"Standard Deviation: \", np.std(data))\n",
    "\n",
    "#percentile\n",
    "print(\"Percentile: \", np.percentile(data, 50))\n",
    "\n",
    "# ---------------------------------------------------------------------------------- #\n",
    "\n",
    "#uniform distribution\n",
    "uniform_data = np.random.uniform(0,1,10000)\n",
    "plt.hist(uniform_data)\n",
    "plt.show()\n",
    "\n",
    "#normal distribution\n",
    "normal_data = np.random.normal(0,1,10000)\n",
    "plt.hist(normal_data)\n",
    "plt.show()\n",
    "\n",
    "#binomial distribution\n",
    "binomial_data = np.random.binomial(1,0.5,10000)\n",
    "plt.hist(binomial_data)\n",
    "plt.show()\n",
    "\n",
    "#poisson distribution\n",
    "poisson_data = np.random.poisson(1,10000)\n",
    "plt.hist(poisson_data)\n",
    "plt.show()"
   ]
  },
  {
   "cell_type": "code",
   "execution_count": null,
   "id": "0d492228",
   "metadata": {},
   "outputs": [],
   "source": []
  }
 ],
 "metadata": {
  "kernelspec": {
   "display_name": "Python 3 (ipykernel)",
   "language": "python",
   "name": "python3"
  },
  "language_info": {
   "codemirror_mode": {
    "name": "ipython",
    "version": 3
   },
   "file_extension": ".py",
   "mimetype": "text/x-python",
   "name": "python",
   "nbconvert_exporter": "python",
   "pygments_lexer": "ipython3",
   "version": "3.10.5"
  }
 },
 "nbformat": 4,
 "nbformat_minor": 5
}
