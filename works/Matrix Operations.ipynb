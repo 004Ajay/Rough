{
 "cells": [
  {
   "cell_type": "code",
   "execution_count": 30,
   "id": "683bf1ad",
   "metadata": {},
   "outputs": [
    {
     "name": "stdout",
     "output_type": "stream",
     "text": [
      "Martrix 1:\n",
      " [[1 2 3]\n",
      " [4 5 6]\n",
      " [7 8 9]]\n",
      "\n",
      "Matrix Addition:\n",
      "[[ 2  4  6]\n",
      " [ 8 10 12]\n",
      " [14 16 18]]\n",
      "\n",
      "Matrix Subtraction:\n",
      "[[0 0 0]\n",
      " [0 0 0]\n",
      " [0 0 0]]\n",
      "\n",
      "Matrix Multiplication:\n",
      "[[ 1  4  9]\n",
      " [16 25 36]\n",
      " [49 64 81]]\n",
      "\n",
      "Matrix Division:\n",
      "[[1. 1. 1.]\n",
      " [1. 1. 1.]\n",
      " [1. 1. 1.]]\n",
      "\n",
      "Matrix Exponentiation:\n",
      "[[ 1  4  9]\n",
      " [16 25 36]\n",
      " [49 64 81]]\n",
      "\n",
      "Matrix Transpose:\n",
      "[[1 4 7]\n",
      " [2 5 8]\n",
      " [3 6 9]]\n",
      "\n",
      "\n",
      "\n",
      "Matrix 2:\n",
      "[[ 5  6]\n",
      " [-1  2]]\n",
      "\n",
      "Matrix Determinant: 15.999999999999998\n",
      "\n",
      "Matrix Inverse:\n",
      "[[ 0.125  -0.375 ]\n",
      " [ 0.0625  0.3125]]\n",
      "\n",
      "Matrix Rank: 2\n",
      "\n",
      "Matrix Eigenvalues: [3.5+1.93649167j 3.5-1.93649167j]\n"
     ]
    }
   ],
   "source": [
    "import numpy as np\n",
    "\n",
    "mat = np.array([[1, 2, 3],\n",
    "                   [4, 5, 6],\n",
    "                   [7, 8, 9]])\n",
    "mat2 = np.array([[5, 6],\n",
    "                   [-1, 2]])\n",
    "\n",
    "print(\"Martrix 1:\\n\", mat)\n",
    "print(f\"\\nMatrix Addition:\\n{mat + mat}\\n\\nMatrix Subtraction:\\n{mat - mat}\")\n",
    "print(f\"\\nMatrix Multiplication:\\n{mat * mat}\\n\\nMatrix Division:\\n{mat / mat}\\n\")\n",
    "print(f\"Matrix Exponentiation:\\n{mat ** 2}\\n\\nMatrix Transpose:\\n{mat.T}\\n\\n\")\n",
    "\n",
    "print(f\"\\nMatrix 2:\\n{mat2}\")\n",
    "print(f\"\\nMatrix Determinant: {np.linalg.det(mat2)}\\n\\nMatrix Inverse:\\n{np.linalg.inv(mat2)}\")\n",
    "print(f\"\\nMatrix Rank: {np.linalg.matrix_rank(mat2)}\\n\\nMatrix Eigenvalues: {np.linalg.eigvals(mat2)}\")"
   ]
  },
  {
   "cell_type": "code",
   "execution_count": null,
   "id": "2daffb85",
   "metadata": {},
   "outputs": [],
   "source": []
  }
 ],
 "metadata": {
  "kernelspec": {
   "display_name": "Python 3 (ipykernel)",
   "language": "python",
   "name": "python3"
  },
  "language_info": {
   "codemirror_mode": {
    "name": "ipython",
    "version": 3
   },
   "file_extension": ".py",
   "mimetype": "text/x-python",
   "name": "python",
   "nbconvert_exporter": "python",
   "pygments_lexer": "ipython3",
   "version": "3.10.5"
  }
 },
 "nbformat": 4,
 "nbformat_minor": 5
}
