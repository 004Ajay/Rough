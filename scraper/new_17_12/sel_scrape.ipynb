{
 "cells": [
  {
   "cell_type": "code",
   "execution_count": 1,
   "metadata": {},
   "outputs": [
    {
     "ename": "Error",
     "evalue": "It looks like you are using Playwright Sync API inside the asyncio loop.\nPlease use the Async API instead.",
     "output_type": "error",
     "traceback": [
      "\u001b[1;31m---------------------------------------------------------------------------\u001b[0m",
      "\u001b[1;31mError\u001b[0m                                     Traceback (most recent call last)",
      "Cell \u001b[1;32mIn[1], line 53\u001b[0m\n\u001b[0;32m     46\u001b[0m \u001b[38;5;66;03m# List of links to scrape\u001b[39;00m\n\u001b[0;32m     47\u001b[0m links \u001b[38;5;241m=\u001b[39m [\n\u001b[0;32m     48\u001b[0m     \u001b[38;5;124m\"\u001b[39m\u001b[38;5;124mhttps://cb.imsc.res.in/imppat/phytochemical/Abies\u001b[39m\u001b[38;5;124m%\u001b[39m\u001b[38;5;124m20balsamea\u001b[39m\u001b[38;5;124m\"\u001b[39m,  \u001b[38;5;66;03m# Replace with your actual links\u001b[39;00m\n\u001b[0;32m     49\u001b[0m     \u001b[38;5;124m\"\u001b[39m\u001b[38;5;124mhttps://cb.imsc.res.in/imppat/phytochemical/Plant2\u001b[39m\u001b[38;5;124m\"\u001b[39m,\n\u001b[0;32m     50\u001b[0m     \u001b[38;5;66;03m# Add more links here\u001b[39;00m\n\u001b[0;32m     51\u001b[0m ]\n\u001b[1;32m---> 53\u001b[0m \u001b[43mextract_plant_info\u001b[49m\u001b[43m(\u001b[49m\u001b[43mlinks\u001b[49m\u001b[43m)\u001b[49m\n",
      "Cell \u001b[1;32mIn[1], line 8\u001b[0m, in \u001b[0;36mextract_plant_info\u001b[1;34m(links)\u001b[0m\n\u001b[0;32m      4\u001b[0m \u001b[38;5;28;01mdef\u001b[39;00m \u001b[38;5;21mextract_plant_info\u001b[39m(links):\n\u001b[0;32m      5\u001b[0m     \u001b[38;5;66;03m# A list to store the extracted data\u001b[39;00m\n\u001b[0;32m      6\u001b[0m     extracted_data \u001b[38;5;241m=\u001b[39m []\n\u001b[1;32m----> 8\u001b[0m     \u001b[38;5;28;01mwith\u001b[39;00m sync_playwright() \u001b[38;5;28;01mas\u001b[39;00m p:\n\u001b[0;32m      9\u001b[0m         browser \u001b[38;5;241m=\u001b[39m p\u001b[38;5;241m.\u001b[39mchromium\u001b[38;5;241m.\u001b[39mlaunch(headless\u001b[38;5;241m=\u001b[39m\u001b[38;5;28;01mTrue\u001b[39;00m)  \u001b[38;5;66;03m# Headless mode for speed\u001b[39;00m\n\u001b[0;32m     10\u001b[0m         page \u001b[38;5;241m=\u001b[39m browser\u001b[38;5;241m.\u001b[39mnew_page()\n",
      "File \u001b[1;32mc:\\Users\\ajayt\\AppData\\Local\\Programs\\Python\\Python310\\lib\\site-packages\\playwright\\sync_api\\_context_manager.py:47\u001b[0m, in \u001b[0;36mPlaywrightContextManager.__enter__\u001b[1;34m(self)\u001b[0m\n\u001b[0;32m     45\u001b[0m             \u001b[38;5;28mself\u001b[39m\u001b[38;5;241m.\u001b[39m_own_loop \u001b[38;5;241m=\u001b[39m \u001b[38;5;28;01mTrue\u001b[39;00m\n\u001b[0;32m     46\u001b[0m         \u001b[38;5;28;01mif\u001b[39;00m \u001b[38;5;28mself\u001b[39m\u001b[38;5;241m.\u001b[39m_loop\u001b[38;5;241m.\u001b[39mis_running():\n\u001b[1;32m---> 47\u001b[0m             \u001b[38;5;28;01mraise\u001b[39;00m Error(\n\u001b[0;32m     48\u001b[0m \u001b[38;5;250m                \u001b[39m\u001b[38;5;124;03m\"\"\"It looks like you are using Playwright Sync API inside the asyncio loop.\u001b[39;00m\n\u001b[0;32m     49\u001b[0m \u001b[38;5;124;03mPlease use the Async API instead.\"\"\"\u001b[39;00m\n\u001b[0;32m     50\u001b[0m             )\n\u001b[0;32m     52\u001b[0m         \u001b[38;5;66;03m# Create a new fiber for the protocol dispatcher. It will be pumping events\u001b[39;00m\n\u001b[0;32m     53\u001b[0m         \u001b[38;5;66;03m# until the end of times. We will pass control to that fiber every time we\u001b[39;00m\n\u001b[0;32m     54\u001b[0m         \u001b[38;5;66;03m# block while waiting for a response.\u001b[39;00m\n\u001b[0;32m     55\u001b[0m         \u001b[38;5;28;01mdef\u001b[39;00m \u001b[38;5;21mgreenlet_main\u001b[39m() \u001b[38;5;241m-\u001b[39m\u001b[38;5;241m>\u001b[39m \u001b[38;5;28;01mNone\u001b[39;00m:\n",
      "\u001b[1;31mError\u001b[0m: It looks like you are using Playwright Sync API inside the asyncio loop.\nPlease use the Async API instead."
     ]
    }
   ],
   "source": [
    "from playwright.sync_api import sync_playwright\n",
    "import pandas as pd\n",
    "\n",
    "def extract_plant_info(links):\n",
    "    # A list to store the extracted data\n",
    "    extracted_data = []\n",
    "\n",
    "    with sync_playwright() as p:\n",
    "        browser = p.chromium.launch(headless=True)  # Headless mode for speed\n",
    "        page = browser.new_page()\n",
    "\n",
    "        for link in links:\n",
    "            page.goto(link, timeout=60000)  # Visit each link with timeout\n",
    "\n",
    "            # Extract required information using selectors\n",
    "            try:\n",
    "                plant_name = page.locator(\"h1\").nth(0).text_content().strip()\n",
    "                kingdom = page.locator(\"text=Kingdom:\").locator(\"..\").text_content().split(\":\")[1].strip()\n",
    "                family = page.locator(\"text=Family:\").locator(\"..\").text_content().split(\":\")[1].strip()\n",
    "                group = page.locator(\"text=Group:\").locator(\"..\").text_content().split(\":\")[1].strip()\n",
    "                synonyms = page.locator(\"text=Synonymous names:\").locator(\"..\").text_content().split(\":\")[1].strip()\n",
    "                iucn_category = page.locator(\"text=IUCN Red List category:\").locator(\"..\").text_content().split(\":\")[1].strip()\n",
    "\n",
    "                # Append the extracted data as a dictionary\n",
    "                extracted_data.append({\n",
    "                    \"Plant Name\": plant_name,\n",
    "                    \"Kingdom\": kingdom,\n",
    "                    \"Family\": family,\n",
    "                    \"Group\": group,\n",
    "                    \"Synonymous Names\": synonyms,\n",
    "                    \"IUCN Red List Category\": iucn_category,\n",
    "                    \"Link\": link\n",
    "                })\n",
    "\n",
    "                print(f\"Successfully extracted: {plant_name}\")\n",
    "            except Exception as e:\n",
    "                print(f\"Failed to extract data from {link}: {e}\")\n",
    "\n",
    "        browser.close()\n",
    "\n",
    "    # Save data to CSV\n",
    "    df = pd.DataFrame(extracted_data)\n",
    "    df.to_csv(\"extracted_plant_info.csv\", index=False)\n",
    "    print(\"Data saved to 'extracted_plant_info.csv'\")\n",
    "\n",
    "# List of links to scrape\n",
    "links = [\n",
    "    \"https://cb.imsc.res.in/imppat/phytochemical/Abies%20balsamea\",  # Replace with your actual links\n",
    "    \"https://cb.imsc.res.in/imppat/phytochemical/Plant2\",\n",
    "    # Add more links here\n",
    "]\n",
    "\n",
    "extract_plant_info(links)\n"
   ]
  },
  {
   "cell_type": "code",
   "execution_count": null,
   "metadata": {},
   "outputs": [],
   "source": []
  }
 ],
 "metadata": {
  "kernelspec": {
   "display_name": "Python 3",
   "language": "python",
   "name": "python3"
  },
  "language_info": {
   "codemirror_mode": {
    "name": "ipython",
    "version": 3
   },
   "file_extension": ".py",
   "mimetype": "text/x-python",
   "name": "python",
   "nbconvert_exporter": "python",
   "pygments_lexer": "ipython3",
   "version": "3.10.11"
  }
 },
 "nbformat": 4,
 "nbformat_minor": 2
}
