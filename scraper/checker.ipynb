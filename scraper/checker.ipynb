{
 "cells": [
  {
   "cell_type": "code",
   "execution_count": 1,
   "metadata": {},
   "outputs": [],
   "source": [
    "import pandas as pd\n",
    "import json"
   ]
  },
  {
   "cell_type": "code",
   "execution_count": 3,
   "metadata": {},
   "outputs": [],
   "source": [
    "df = pd.read_json(r\"C:\\Users\\ajayt\\OneDrive\\Desktop\\scraper\\Final Out\\OSADHI_all_phytochem_details.json\").T"
   ]
  },
  {
   "cell_type": "code",
   "execution_count": 4,
   "metadata": {},
   "outputs": [
    {
     "data": {
      "text/html": [
       "<div>\n",
       "<style scoped>\n",
       "    .dataframe tbody tr th:only-of-type {\n",
       "        vertical-align: middle;\n",
       "    }\n",
       "\n",
       "    .dataframe tbody tr th {\n",
       "        vertical-align: top;\n",
       "    }\n",
       "\n",
       "    .dataframe thead th {\n",
       "        text-align: right;\n",
       "    }\n",
       "</style>\n",
       "<table border=\"1\" class=\"dataframe\">\n",
       "  <thead>\n",
       "    <tr style=\"text-align: right;\">\n",
       "      <th></th>\n",
       "      <th>IUPAC</th>\n",
       "      <th>Canonical Smiles</th>\n",
       "      <th>Inchi</th>\n",
       "      <th>PubChem ID</th>\n",
       "      <th>Smiles</th>\n",
       "    </tr>\n",
       "  </thead>\n",
       "  <tbody>\n",
       "    <tr>\n",
       "      <th>auricularic acid</th>\n",
       "      <td>8-ethenyl-1,4a-dimethyl-7-methylidene-3,4,4b,5...</td>\n",
       "      <td>CC12CCCC(C1CCC3C2CCC(=C)C3C=C)(C)C(=O)O</td>\n",
       "      <td>XFHAKDIYTJGGSQ-UHFFFAOYSA-N</td>\n",
       "      <td>365764</td>\n",
       "      <td>C=CC1C(=C)CCC2C1CCC1C(C)(C(=O)O)CCCC21C</td>\n",
       "    </tr>\n",
       "    <tr>\n",
       "      <th>d-glucose</th>\n",
       "      <td>(3R,4S,5S,6R)-6-(hydroxymethyl)oxane-2,3,4,5-t...</td>\n",
       "      <td>C(C1C(C(C(C(O1)O)O)O)O)O</td>\n",
       "      <td>WQZGKKKJIJFFOK-GASJEMHNSA-N</td>\n",
       "      <td>5793</td>\n",
       "      <td>OCC1OC(O)C(O)C(O)C1O</td>\n",
       "    </tr>\n",
       "    <tr>\n",
       "      <th>EUDESMANE</th>\n",
       "      <td>(3R,4aS,5R,8aR)-5,8a-dimethyl-3-propan-2-yl-2,...</td>\n",
       "      <td>CC1CCCC2(C1CC(CC2)C(C)C)C</td>\n",
       "      <td>DYEQPYSFRWUNNV-APIJFGDWSA-N</td>\n",
       "      <td>193299</td>\n",
       "      <td>CC(C)C1CCC2(C)CCCC(C)C2C1</td>\n",
       "    </tr>\n",
       "    <tr>\n",
       "      <th>orientin</th>\n",
       "      <td>2-(3,4-dihydroxyphenyl)-5,7-dihydroxy-8-[(2S,3...</td>\n",
       "      <td>C1=CC(=C(C=C1C2=CC(=O)C3=C(O2)C(=C(C=C3O)O)C4C...</td>\n",
       "      <td>PLAPMLGJVGLZOV-VPRICQMDSA-N</td>\n",
       "      <td>5281675</td>\n",
       "      <td>O=c1cc(-c2ccc(O)c(O)c2)oc2c(C3OC(CO)C(O)C(O)C3...</td>\n",
       "    </tr>\n",
       "    <tr>\n",
       "      <th>oxalic acid</th>\n",
       "      <td>oxalic acid</td>\n",
       "      <td>C(=O)(C(=O)O)O</td>\n",
       "      <td>MUBZPKHOEPUJKR-UHFFFAOYSA-N</td>\n",
       "      <td>971</td>\n",
       "      <td>O=C(O)C(=O)O</td>\n",
       "    </tr>\n",
       "  </tbody>\n",
       "</table>\n",
       "</div>"
      ],
      "text/plain": [
       "                                                              IUPAC  \\\n",
       "auricularic acid  8-ethenyl-1,4a-dimethyl-7-methylidene-3,4,4b,5...   \n",
       "d-glucose         (3R,4S,5S,6R)-6-(hydroxymethyl)oxane-2,3,4,5-t...   \n",
       "EUDESMANE         (3R,4aS,5R,8aR)-5,8a-dimethyl-3-propan-2-yl-2,...   \n",
       "orientin          2-(3,4-dihydroxyphenyl)-5,7-dihydroxy-8-[(2S,3...   \n",
       "oxalic acid                                             oxalic acid   \n",
       "\n",
       "                                                   Canonical Smiles  \\\n",
       "auricularic acid            CC12CCCC(C1CCC3C2CCC(=C)C3C=C)(C)C(=O)O   \n",
       "d-glucose                                  C(C1C(C(C(C(O1)O)O)O)O)O   \n",
       "EUDESMANE                                 CC1CCCC2(C1CC(CC2)C(C)C)C   \n",
       "orientin          C1=CC(=C(C=C1C2=CC(=O)C3=C(O2)C(=C(C=C3O)O)C4C...   \n",
       "oxalic acid                                          C(=O)(C(=O)O)O   \n",
       "\n",
       "                                        Inchi PubChem ID  \\\n",
       "auricularic acid  XFHAKDIYTJGGSQ-UHFFFAOYSA-N     365764   \n",
       "d-glucose         WQZGKKKJIJFFOK-GASJEMHNSA-N       5793   \n",
       "EUDESMANE         DYEQPYSFRWUNNV-APIJFGDWSA-N     193299   \n",
       "orientin          PLAPMLGJVGLZOV-VPRICQMDSA-N    5281675   \n",
       "oxalic acid       MUBZPKHOEPUJKR-UHFFFAOYSA-N        971   \n",
       "\n",
       "                                                             Smiles  \n",
       "auricularic acid            C=CC1C(=C)CCC2C1CCC1C(C)(C(=O)O)CCCC21C  \n",
       "d-glucose                                      OCC1OC(O)C(O)C(O)C1O  \n",
       "EUDESMANE                                 CC(C)C1CCC2(C)CCCC(C)C2C1  \n",
       "orientin          O=c1cc(-c2ccc(O)c(O)c2)oc2c(C3OC(CO)C(O)C(O)C3...  \n",
       "oxalic acid                                            O=C(O)C(=O)O  "
      ]
     },
     "execution_count": 4,
     "metadata": {},
     "output_type": "execute_result"
    }
   ],
   "source": [
    "df = df.map(lambda x: ', '.join(x) if isinstance(x, list) else x)\n",
    "df.head()"
   ]
  },
  {
   "cell_type": "code",
   "execution_count": 5,
   "metadata": {},
   "outputs": [],
   "source": [
    "df.to_csv(\"OSADHI_all_Phytochemicals.csv\")"
   ]
  },
  {
   "cell_type": "code",
   "execution_count": 10,
   "metadata": {},
   "outputs": [],
   "source": [
    "with open('merger/OSADHI_all_phytochem_details.json') as f: \n",
    "    data = json.load(f)"
   ]
  },
  {
   "cell_type": "code",
   "execution_count": 11,
   "metadata": {},
   "outputs": [
    {
     "data": {
      "text/plain": [
       "16279"
      ]
     },
     "execution_count": 11,
     "metadata": {},
     "output_type": "execute_result"
    }
   ],
   "source": [
    "len(data)"
   ]
  },
  {
   "cell_type": "code",
   "execution_count": 6,
   "metadata": {},
   "outputs": [
    {
     "data": {
      "text/plain": [
       "21217"
      ]
     },
     "execution_count": 6,
     "metadata": {},
     "output_type": "execute_result"
    }
   ],
   "source": [
    "with open(r'C:\\Users\\ajayt\\OneDrive\\Desktop\\scraper\\Final Out\\OSADHI_all_phytochem_details.json') as f: \n",
    "    data1 = json.load(f)\n",
    "len(data1)"
   ]
  },
  {
   "cell_type": "code",
   "execution_count": 7,
   "metadata": {},
   "outputs": [
    {
     "data": {
      "text/plain": [
       "217"
      ]
     },
     "execution_count": 7,
     "metadata": {},
     "output_type": "execute_result"
    }
   ],
   "source": [
    "21434 - 21217"
   ]
  },
  {
   "cell_type": "code",
   "execution_count": null,
   "metadata": {},
   "outputs": [],
   "source": []
  }
 ],
 "metadata": {
  "kernelspec": {
   "display_name": "db_scraper",
   "language": "python",
   "name": "python3"
  },
  "language_info": {
   "codemirror_mode": {
    "name": "ipython",
    "version": 3
   },
   "file_extension": ".py",
   "mimetype": "text/x-python",
   "name": "python",
   "nbconvert_exporter": "python",
   "pygments_lexer": "ipython3",
   "version": "3.10.11"
  }
 },
 "nbformat": 4,
 "nbformat_minor": 2
}
